{
 "cells": [
  {
   "cell_type": "code",
   "execution_count": 61,
   "metadata": {},
   "outputs": [],
   "source": [
    "import pandas as pd \n",
    "import matplotlib.pyplot as plt \n",
    "import seaborn as sns \n",
    "import numpy as np\n",
    "from datetime import datetime\n",
    "from sklearn.model_selection import train_test_split\n",
    "from sklearn import linear_model\n",
    "from sklearn.metrics import r2_score,confusion_matrix,classification_report"
   ]
  },
  {
   "cell_type": "code",
   "execution_count": 2,
   "metadata": {},
   "outputs": [],
   "source": [
    "df=pd.read_csv('./rideshare_kaggle.csv')\n",
    "# df = df.iloc[:1000]"
   ]
  },
  {
   "cell_type": "markdown",
   "metadata": {},
   "source": [
    "#### Understanding Data"
   ]
  },
  {
   "cell_type": "code",
   "execution_count": null,
   "metadata": {},
   "outputs": [],
   "source": [
    "df.info()"
   ]
  },
  {
   "cell_type": "code",
   "execution_count": null,
   "metadata": {},
   "outputs": [],
   "source": [
    "df.describe()"
   ]
  },
  {
   "cell_type": "code",
   "execution_count": null,
   "metadata": {},
   "outputs": [],
   "source": [
    "rides_vs_price = plt.figure(figsize=(15, 10))\n",
    "sd = np.std(df['price'])\n",
    "mean = df['price'].mean()\n",
    "size = len(df['price'].unique())\n",
    "freq = {}\n",
    "for data in df['price'].unique() :\n",
    "    freq[data] = len(df[df.price == data])\n",
    "plt.plot([mean,mean],[0,55000])\n",
    "plt.plot([mean-sd,mean-sd],[0,55000],color = \"green\")\n",
    "plt.plot([mean+sd,mean+sd],[0,55000],color = \"green\")\n",
    "plt.title(\"Rides vs Price\")\n",
    "plt.xlabel(\"Price\")\n",
    "plt.ylabel(\"No. of Rides\")\n",
    "plt.scatter(freq.keys(),freq.values(),marker = '1',color = 'red')"
   ]
  },
  {
   "cell_type": "code",
   "execution_count": null,
   "metadata": {},
   "outputs": [],
   "source": [
    "plt.boxplot(freq.values())\n"
   ]
  },
  {
   "cell_type": "code",
   "execution_count": null,
   "metadata": {},
   "outputs": [],
   "source": [
    "df.isna().sum()"
   ]
  },
  {
   "cell_type": "code",
   "execution_count": null,
   "metadata": {},
   "outputs": [],
   "source": [
    "col_vs_values = plt.figure(figsize=(15, 10))\n",
    "col_list = ['source','destination','cab_type','product_id','name','short_summary','long_summary','icon','timezone']\n",
    "unique_val = []\n",
    "for data in col_list :\n",
    "    unique_val += [len(pd.unique(df[data]))]\n",
    "plt.barh(col_list,unique_val)\n",
    "plt.title(\"No. of Unique Values per Column\")\n",
    "plt.xlabel(\"No. of Unique Values\")\n",
    "plt.ylabel(\"Columns\")"
   ]
  },
  {
   "cell_type": "markdown",
   "metadata": {},
   "source": [
    "#### Data preprocessing"
   ]
  },
  {
   "cell_type": "code",
   "execution_count": 3,
   "metadata": {},
   "outputs": [],
   "source": [
    "df = df.dropna()\n",
    "N = df.shape[0]"
   ]
  },
  {
   "cell_type": "code",
   "execution_count": 4,
   "metadata": {},
   "outputs": [],
   "source": [
    "df.loc[df.cab_type=='Uber','product_id'] = 'Uber'\n",
    "df = df.drop(\"id\",axis=\"columns\")\n",
    "df = df.drop(\"timezone\",axis=\"columns\")"
   ]
  },
  {
   "cell_type": "markdown",
   "metadata": {},
   "source": [
    "## From here"
   ]
  },
  {
   "cell_type": "code",
   "execution_count": 10,
   "metadata": {},
   "outputs": [],
   "source": [
    "rows_with_nan = [index for index, row in df.iterrows() if row.isnull().any()]"
   ]
  },
  {
   "cell_type": "code",
   "execution_count": 11,
   "metadata": {},
   "outputs": [],
   "source": [
    "New_df = df[['source','destination','cab_type','distance','product_id','price']]\n",
    "New_df = pd.get_dummies(New_df,columns=['source','destination','cab_type','product_id'],drop_first=True);"
   ]
  },
  {
   "cell_type": "code",
   "execution_count": null,
   "metadata": {},
   "outputs": [],
   "source": [
    "df_with_na=pd.DataFrame()\n",
    "df_with_na=df_with_na.append(New_df.iloc[rows_with_nan])\n",
    "\n",
    "df_noNull=New_df.dropna()\n"
   ]
  },
  {
   "cell_type": "code",
   "execution_count": 13,
   "metadata": {},
   "outputs": [],
   "source": [
    "x_noNull = df_noNull.drop(\"price\",axis=\"columns\")\n",
    "y_noNull=df_noNull[['price']]\n",
    "\n",
    "\n",
    "ml_model = linear_model.LinearRegression()\n",
    "ml_model.fit(x_noNull, y_noNull)\n",
    "\n",
    "x_with_Null = df_with_na.drop(\"price\",axis=\"columns\")\n",
    "y_with_Null = ml_model.predict(x_with_Null)\n",
    "df.loc[rows_with_nan,'price'] = y_with_Null"
   ]
  },
  {
   "cell_type": "markdown",
   "metadata": {},
   "source": [
    "## To here"
   ]
  },
  {
   "cell_type": "code",
   "execution_count": null,
   "metadata": {},
   "outputs": [],
   "source": [
    "df.columns"
   ]
  },
  {
   "cell_type": "markdown",
   "metadata": {},
   "source": [
    "#### Data visualization"
   ]
  },
  {
   "cell_type": "code",
   "execution_count": null,
   "metadata": {},
   "outputs": [],
   "source": [
    "## Month vs price\n",
    "month_vs_price = plt.figure(figsize=(15, 10))\n",
    "lst = []\n",
    "for i in range(11,13) :\n",
    "    price = df.loc[df.month==i]['price'].mean()\n",
    "    lst += [price]\n",
    "plt.bar(['November','December'],lst)\n",
    "plt.title(\"Month vs Price\")\n",
    "plt.xlabel(\"Months\")\n",
    "plt.ylabel(\"Average price (in $)\")"
   ]
  },
  {
   "cell_type": "code",
   "execution_count": null,
   "metadata": {},
   "outputs": [],
   "source": [
    "## time vs average price\n",
    "time_price = plt.figure(figsize=(10, 5))\n",
    "lst = df['hour'].unique()\n",
    "num = [0]*len(lst)\n",
    "for data in lst :\n",
    "    num[data] = df[df.hour==data]['price'].mean()\n",
    "plt.bar(lst,num,color = \"yellow\")\n",
    "plt.title(\"Time vs average price\")\n",
    "plt.xlabel(\"Time(in hr)\")\n",
    "plt.ylabel(\"Average Price(in $)\")\n"
   ]
  },
  {
   "cell_type": "code",
   "execution_count": null,
   "metadata": {},
   "outputs": [],
   "source": [
    "## time vs number of cabs\n",
    "time_vs_cabs = plt.figure(figsize=(15, 10))\n",
    "lst = df['hour'].unique()\n",
    "num = [0]*24\n",
    "for data in lst :\n",
    "    num[data] = len(df[df.hour==data])\n",
    "\n",
    "\n",
    "plt.bar(lst,num,color = \"red\")\n",
    "plt.title(\"Time vs Number of Cabs\")\n",
    "plt.xlabel(\"Time (in hr)\")\n",
    "plt.ylabel(\"Number of cabs\")"
   ]
  },
  {
   "cell_type": "code",
   "execution_count": null,
   "metadata": {},
   "outputs": [],
   "source": [
    "## cab type vs price\n",
    "cab_vs_price = plt.figure(figsize=(15, 10))\n",
    "lst = df['cab_type'].unique()\n",
    "avg_price = []\n",
    "for data in lst :\n",
    "    new_df = df[df.cab_type == data]\n",
    "    avg_price += [new_df['price'].mean()]\n",
    "plt.bar(lst,avg_price,color = \"purple\")\n",
    "plt.title(\"Cab type vs Price\")\n",
    "plt.xlabel(\"Cab type\")\n",
    "plt.ylabel(\"Price\")"
   ]
  },
  {
   "cell_type": "code",
   "execution_count": null,
   "metadata": {},
   "outputs": [],
   "source": [
    "## product id vs price\n",
    "prod_vs_price = plt.figure(figsize=(15, 10))\n",
    "lst = df['product_id'].unique()\n",
    "avg_price = []\n",
    "for data in lst :\n",
    "    avg_price += [df[df.product_id == data]['price'].mean()]\n",
    "plt.barh(lst,avg_price,color = \"orange\")\n",
    "plt.title(\"Product id vs Price\")\n",
    "plt.ylabel(\"Product id\")\n",
    "plt.xlabel(\"Price\")"
   ]
  },
  {
   "cell_type": "code",
   "execution_count": null,
   "metadata": {},
   "outputs": [],
   "source": [
    "## climate conditions vs price\n",
    "climate_vs_price = plt.figure(figsize=(15, 10))\n",
    "lst = df['short_summary'].unique()\n",
    "avg_price = []\n",
    "for data in lst :\n",
    "    avg_price += [df[df.short_summary==data]['price'].mean()]\n",
    "plt.barh(lst,avg_price,color = \"green\")\n",
    "plt.title(\"Climate conditions vs Price\")\n",
    "plt.xlabel(\"Price\")\n",
    "plt.ylabel(\"Climate conditions\")"
   ]
  },
  {
   "cell_type": "code",
   "execution_count": null,
   "metadata": {},
   "outputs": [],
   "source": [
    "## source vs avg price\n",
    "source_vs_price = plt.figure(figsize=(15, 10))\n",
    "lst = df['source'].unique()\n",
    "Dist = {}\n",
    "for data in lst :\n",
    "    Dist[data] = df[df.source == data]['price'].mean()\n",
    "plt.barh(list(Dist.keys()),Dist.values(),color = \"red\")\n",
    "plt.title(\"Source vs Average price\")\n",
    "plt.xlabel(\"Average price\")\n",
    "plt.ylabel(\"Source\")"
   ]
  },
  {
   "cell_type": "code",
   "execution_count": null,
   "metadata": {},
   "outputs": [],
   "source": [
    "## destinations vs avg price\n",
    "dest_vs_price = plt.figure(figsize=(15, 10))\n",
    "lst = df['destination'].unique()\n",
    "Dist = {}\n",
    "for data in lst :\n",
    "    Dist[data] = df[df.destination == data]['price'].mean()\n",
    "plt.barh(list(Dist.keys()),Dist.values(),color = \"green\")\n",
    "plt.title(\"Destination vs Average price\")\n",
    "plt.xlabel(\"Average price\")\n",
    "plt.ylabel(\"Destination\")"
   ]
  },
  {
   "cell_type": "code",
   "execution_count": null,
   "metadata": {},
   "outputs": [],
   "source": [
    "## source vs number of cabs\n",
    "source_vs_cabs = plt.figure(figsize=(15, 10))\n",
    "lst = df['source'].unique()\n",
    "Dist = {}\n",
    "for data in lst :\n",
    "    Dist[data] = len(df[df.source == data])-50000\n",
    "print(Dist)\n",
    "plt.barh(list(Dist.keys()),list(Dist.values()),color = \"black\")\n",
    "plt.title(\"Source vs Number of cabs\")\n",
    "plt.xlabel(\"V ->\\nNumber of cabs(V+50000)\")\n",
    "plt.ylabel(\"Source\")"
   ]
  },
  {
   "cell_type": "code",
   "execution_count": null,
   "metadata": {},
   "outputs": [],
   "source": [
    "## destinations vs number of cabs\n",
    "# figure.tight_layout(pad = 5)\n",
    "dest_vs_cabs = plt.figure(figsize=(15, 10))\n",
    "# figure.tight_layout(pad=5)\n",
    "# figure.set_figwidth(15)\n",
    "# figure.set_figheight(10)\n",
    "lst = df['destination'].unique()\n",
    "Dist = {}\n",
    "for data in lst :\n",
    "    Dist[data] = len(df[df.destination == data])-50000\n",
    "plt.barh(list(Dist.keys()),Dist.values(),color = \"green\")\n",
    "plt.title(\"Destination vs Number of cabs\")\n",
    "plt.xlabel(\"V ->\\nNumber of cabs(V+50000)\")\n",
    "plt.ylabel(\"Destinations\")\n"
   ]
  },
  {
   "cell_type": "markdown",
   "metadata": {},
   "source": [
    "#### Data encoding"
   ]
  },
  {
   "cell_type": "code",
   "execution_count": 5,
   "metadata": {},
   "outputs": [],
   "source": [
    "New_df = pd.get_dummies(df,columns=['source','destination','cab_type','product_id','name','short_summary','long_summary','icon'],drop_first=True)"
   ]
  },
  {
   "cell_type": "markdown",
   "metadata": {},
   "source": [
    "#### Predicting Price"
   ]
  },
  {
   "cell_type": "code",
   "execution_count": 6,
   "metadata": {},
   "outputs": [
    {
     "name": "stdout",
     "output_type": "stream",
     "text": [
      "0.9280997154088444\n"
     ]
    }
   ],
   "source": [
    "x = New_df.drop(['price','datetime'],axis='columns')\n",
    "y = New_df['price']\n",
    "\n",
    "x_train,x_test,y_train,y_test = train_test_split(x,y,train_size=0.7,random_state=69);\n",
    "\n",
    "model = linear_model.LinearRegression()\n",
    "model.fit(x_train,y_train)\n",
    "pred_val = model.predict(x_test)\n",
    "print(r2_score(y_test,pred_val))"
   ]
  },
  {
   "cell_type": "code",
   "execution_count": null,
   "metadata": {},
   "outputs": [],
   "source": [
    "df.columns"
   ]
  },
  {
   "cell_type": "code",
   "execution_count": null,
   "metadata": {},
   "outputs": [],
   "source": [
    "figure,axis = plt.subplots(1,2)\n",
    "figure.tight_layout(pad = 5)\n",
    "figure.set_figwidth(15)\n",
    "figure.set_figheight(10)\n",
    "\n",
    "lst = df[df.cab_type == 'Uber']['name'].unique()\n",
    "avg_price = []\n",
    "for data in lst :\n",
    "    avg_price += [df[df.name == data]['price'].mean()]\n",
    "axis[0].title.set_text('Name vs Price')\n",
    "axis[1].title.set_text('Name vs Price')\n",
    "axis[0].set_xlabel('Price')\n",
    "axis[1].set_xlabel('Price')\n",
    "axis[1].set_ylabel('Name')\n",
    "axis[0].set_ylabel('Name')\n",
    "# plt.title(\"Name vs Price\")\n",
    "# plt.xlabel(\"Price\")\n",
    "# plt.ylabel(\"Name\")\n",
    "axis[0].barh(lst,avg_price,color = \"red\")\n",
    "\n",
    "lst = df[df.cab_type == 'Lyft']['name'].unique()\n",
    "avg_price = []\n",
    "for data in lst :\n",
    "    avg_price += [df[df.name == data]['price'].mean()]\n",
    "# plt.title(\"Name vs Price\")\n",
    "# plt.xlabel(\"Price\")\n",
    "# plt.ylabel(\"Name\")\n",
    "axis[1].barh(lst,avg_price)\n",
    "\n"
   ]
  },
  {
   "cell_type": "code",
   "execution_count": null,
   "metadata": {},
   "outputs": [],
   "source": [
    "## removing the unwanted features \n",
    "New_df = df[['hour','day','month','source','destination','cab_type','product_id','name','price','distance','surge_multiplier','short_summary']]\n",
    "New_df['hour'] = New_df['hour'].astype(str)\n",
    "New_df = pd.get_dummies(New_df,columns = ['source','destination','cab_type','product_id','short_summary'],drop_first = True)\n",
    "New_df = pd.get_dummies(New_df,columns = ['hour','name'],drop_first = False)\n",
    "x = New_df.drop(['price'],axis = \"columns\")\n",
    "y = New_df['price']"
   ]
  },
  {
   "cell_type": "code",
   "execution_count": null,
   "metadata": {},
   "outputs": [],
   "source": [
    "x_train,x_test,y_train,y_test = train_test_split(x,y,train_size = 0.7,random_state=69)\n",
    "model = linear_model.LinearRegression()\n",
    "\n",
    "model.fit(x_train,y_train)\n",
    "pred_val = model.predict(x_test)\n",
    "print(r2_score(y_test,pred_val))"
   ]
  },
  {
   "cell_type": "markdown",
   "metadata": {},
   "source": [
    "#### Predicting what is minimum price for a particular day"
   ]
  },
  {
   "cell_type": "code",
   "execution_count": null,
   "metadata": {},
   "outputs": [],
   "source": [
    "## creating sample x and y\n",
    "sample = New_df.sample()\n",
    "sample_x = sample.drop(['price'],axis = 'columns')\n",
    "sample_y = sample['price']\n",
    "string = 'hour_'\n",
    "actual_hr = -1\n",
    "for i in range(24) :\n",
    "    if 1 in sample_x[string + str(i)].unique() :\n",
    "        actual_hr = i\n",
    "        sample_x[string+str(i)] = 0\n",
    "min_price = 1000\n",
    "ans = 0\n",
    "for i in range(24) :\n",
    "    sample_x['hour_'+str(i)] = 1\n",
    "    price = model.predict(sample_x)\n",
    "    sample_x['hour_'+str(i)] = 0\n",
    "    if price < min_price :\n",
    "        min_price = price\n",
    "        ans = i\n",
    "print(\"Predicted Minimum price and hour\")\n",
    "print(min_price,ans)\n",
    "print(\"************\")\n",
    "print(\"Actual price\")\n",
    "print(sample_y)\n",
    "print(\"Actual hour\")\n",
    "print(actual_hr)"
   ]
  },
  {
   "cell_type": "markdown",
   "metadata": {},
   "source": [
    "#### Predicting what cab should someone get at a particular a price"
   ]
  },
  {
   "cell_type": "code",
   "execution_count": 70,
   "metadata": {},
   "outputs": [
    {
     "name": "stdout",
     "output_type": "stream",
     "text": [
      "              precision    recall  f1-score   support\n",
      "\n",
      "       Black       0.89      0.91      0.90     16392\n",
      "   Black SUV       0.92      0.92      0.92     16513\n",
      "         Lux       0.65      0.68      0.67     15333\n",
      "   Lux Black       0.84      0.85      0.84     15259\n",
      "Lux Black XL       0.88      0.88      0.88     15404\n",
      "        Lyft       0.85      0.86      0.85     15457\n",
      "     Lyft XL       0.70      0.67      0.68     15373\n",
      "      Shared       0.94      0.92      0.93     15133\n",
      "    UberPool       0.65      0.67      0.66     16566\n",
      "       UberX       0.33      0.33      0.33     16809\n",
      "      UberXL       0.83      0.82      0.82     16462\n",
      "         WAV       0.33      0.31      0.32     16692\n",
      "\n",
      "    accuracy                           0.73    191393\n",
      "   macro avg       0.73      0.73      0.73    191393\n",
      "weighted avg       0.73      0.73      0.73    191393\n",
      "\n"
     ]
    }
   ],
   "source": [
    "## first need to implement decision tree model to predict the name of cab\n",
    "## Then use the same technique to find cab of that particular range\n",
    "\n",
    "from sklearn.tree import DecisionTreeClassifier\n",
    "\n",
    "df_cab=df[['day','month','hour','source','destination','price','distance','name']]\n",
    "df_cab = pd.get_dummies(df_cab,columns = ['source','destination'],drop_first = True)\n",
    "# x_cabPred=df.drop(['name'],axis='columns')\n",
    "\n",
    "x_cabPred=df_cab.drop(['name'],axis='columns')\n",
    "y_cabPred=df['name']\n",
    "labels = df['name'].unique()\n",
    "\n",
    "# print(x_cabPred.head())\n",
    "# print(y_cabPred.head())\n",
    "\n",
    "# df.head(\n",
    "X_train, X_test, y_train, y_test = train_test_split(x_cabPred, y_cabPred, test_size = 0.3, random_state = 100)\n",
    "modelTree=DecisionTreeClassifier(max_depth=25,random_state=100)\n",
    "modelTree.fit(X_train,y_train)\n",
    "\n",
    "y_pred = modelTree.predict(X_test)\n",
    "print(classification_report(y_test,y_pred))\n"
   ]
  },
  {
   "cell_type": "code",
   "execution_count": 105,
   "metadata": {},
   "outputs": [
    {
     "data": {
      "image/png": "[encoded data removed]",
      "text/plain": [
       "<Figure size 640x480 with 2 Axes>"
      ]
     },
     "metadata": {},
     "output_type": "display_data"
    },
    {
     "data": {
      "text/plain": [
       "<Figure size 1500x1000 with 0 Axes>"
      ]
     },
     "metadata": {},
     "output_type": "display_data"
    }
   ],
   "source": [
    "c_matrix = confusion_matrix(y_test,y_pred)\n",
    "matrix_df = pd.DataFrame(c_matrix)\n",
    "ax = plt.axes()\n",
    "fig = plt.figure(figsize=(15,10))\n",
    "sns.set(font_scale=0.7)\n",
    "sns.heatmap(matrix_df, annot=True, fmt=\"g\", ax=ax, cmap=\"magma\",square=True)#set axis titles\n",
    "ax.set_title('Confusion Matrix - Decision Tree')\n",
    "ax.set_xlabel(\"Predicted label\", fontsize =15)\n",
    "ax.set_xticklabels(['']+labels)\n",
    "ax.set_ylabel(\"True Label\", fontsize=15)\n",
    "ax.set_yticklabels(list(labels), rotation = 0)\n",
    "plt.show()"
   ]
  },
  {
   "cell_type": "code",
   "execution_count": 100,
   "metadata": {},
   "outputs": [
    {
     "name": "stdout",
     "output_type": "stream",
     "text": [
      "The predicted values is \n",
      "['UberPool']\n",
      "The actual values is \n",
      "483169    UberPool\n",
      "Name: name, dtype: object\n"
     ]
    }
   ],
   "source": [
    "sampleIn=df_cab.sample()\n",
    "sampleInput=sampleIn.drop(['name'],axis='columns')\n",
    "# sampleIndex=x_cabPred.iloc(sampleInput)\n",
    "predValue=modelTree.predict(sampleInput)\n",
    "\n",
    "print('The predicted values is ')\n",
    "print(predValue)\n",
    "print('The actual values is ')\n",
    "print(sampleIn['name'])"
   ]
  }
 ],
 "metadata": {
  "kernelspec": {
   "display_name": "Python 3.9.0 64-bit",
   "language": "python",
   "name": "python3"
  },
  "language_info": {
   "codemirror_mode": {
    "name": "ipython",
    "version": 3
   },
   "file_extension": ".py",
   "mimetype": "text/x-python",
   "name": "python",
   "nbconvert_exporter": "python",
   "pygments_lexer": "ipython3",
   "version": "3.9.0"
  },
  "orig_nbformat": 4,
  "vscode": {
   "interpreter": {
    "hash": "11938c6bc6919ae2720b4d5011047913343b08a43b18698fd82dedb0d4417594"
   }
  }
 },
 "nbformat": 4,
 "nbformat_minor": 2
}
